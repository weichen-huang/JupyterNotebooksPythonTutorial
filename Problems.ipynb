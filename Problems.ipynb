{
 "cells": [
  {
   "cell_type": "markdown",
   "metadata": {},
   "source": [
    "# Problem 1\n",
    "\n",
    "Given an array of integers nums and an integer target, return indices of the two numbers such that they add up to target.\n",
    "\n",
    "You may assume that each input would have exactly one solution, and you may not use the same element twice.\n",
    "\n",
    "You can return the answer in any order."
   ]
  },
  {
   "cell_type": "code",
   "execution_count": null,
   "metadata": {},
   "outputs": [],
   "source": [
    "class Solution:\n",
    "    def twoSum(self, nums, target):\n",
    "        pass\n",
    "        # write the code here"
   ]
  },
  {
   "cell_type": "markdown",
   "metadata": {},
   "source": [
    "# Run the next cell to check the code"
   ]
  },
  {
   "cell_type": "code",
   "execution_count": null,
   "metadata": {},
   "outputs": [],
   "source": [
    "import random\n",
    "from typing import List\n",
    "\n",
    "class OptimalSolution:\n",
    "    def twoSum(self,a,b):\n",
    "        c={}\n",
    "        for d,e in enumerate(a):\n",
    "            f=b-e\n",
    "            if f in c:\n",
    "                return [c[f],d]\n",
    "            c[e]=d\n",
    "        return []\n",
    "\n",
    "def generate_random_test_cases(n: int, list_size: int, num_range: int):\n",
    "    test_cases = []\n",
    "    for _ in range(n):\n",
    "        nums = random.sample(range(-num_range, num_range), list_size)\n",
    "        target = random.choice(nums) + random.choice(nums)\n",
    "        test_cases.append((nums, target))\n",
    "    return test_cases\n",
    "\n",
    "# Checker function\n",
    "def check_twoSum():\n",
    "    # Generate 10 random test cases\n",
    "    test_cases = generate_random_test_cases(10, list_size=10, num_range=100)\n",
    "    \n",
    "    suboptimal_solution = Solution()\n",
    "    optimal_solution = OptimalSolution()\n",
    "    \n",
    "    for idx, (nums, target) in enumerate(test_cases):\n",
    "        suboptimal_result = suboptimal_solution.twoSum(nums, target)\n",
    "        optimal_result = optimal_solution.twoSum(nums, target)\n",
    "        \n",
    "        # Sort the result for comparison (since [i, j] or [j, i] both are correct)\n",
    "        if suboptimal_result:\n",
    "            suboptimal_result = sorted(suboptimal_result)\n",
    "        if optimal_result:\n",
    "            optimal_result = sorted(optimal_result)\n",
    "        \n",
    "        assert suboptimal_result == optimal_result, f\"Test case {idx + 1} failed: Suboptimal: {suboptimal_result}, Optimal: {optimal_result}\"\n",
    "        print(f\"Test case {idx + 1} passed!\")\n",
    "\n",
    "# Run checker\n",
    "check_twoSum()"
   ]
  },
  {
   "cell_type": "markdown",
   "metadata": {},
   "source": [
    "# Problem 2\n",
    "\n",
    "Given a string s, find the length of the longest substring without repeating characters.\n",
    "\n",
    " \n",
    "\n",
    "Example 1:\n",
    "\n",
    "Input: s = \"abcabcbb\"\n",
    "Output: 3\n",
    "Explanation: The answer is \"abc\", with the length of 3.\n",
    "Example 2:\n",
    "\n",
    "Input: s = \"bbbbb\"\n",
    "Output: 1\n",
    "Explanation: The answer is \"b\", with the length of 1.\n",
    "Example 3:\n",
    "\n",
    "Input: s = \"pwwkew\"\n",
    "Output: 3\n",
    "Explanation: The answer is \"wke\", with the length of 3.\n",
    "Notice that the answer must be a substring, \"pwke\" is a subsequence and not a substring."
   ]
  },
  {
   "cell_type": "code",
   "execution_count": null,
   "metadata": {},
   "outputs": [],
   "source": [
    "class Solution:\n",
    "    def lengthOfLongestSubstring(self, s):\n",
    "        pass\n",
    "        # write your code here"
   ]
  },
  {
   "cell_type": "markdown",
   "metadata": {},
   "source": [
    "# Run the next cell to check the code"
   ]
  },
  {
   "cell_type": "code",
   "execution_count": null,
   "metadata": {},
   "outputs": [],
   "source": [
    "class OptimalSolution:\n",
    "    def lengthOfLongestSubstring(self, s):\n",
    "        a = {}\n",
    "        b = c = 0\n",
    "        for d in range(len(s)):\n",
    "            if s[d] in a:\n",
    "                b = max(a[s[d]] + 1, b)\n",
    "            c = max(c, d - b + 1)\n",
    "            a[s[d]] = d\n",
    "        return c\n",
    "    \n",
    "import random\n",
    "import string\n",
    "\n",
    "# Function to generate random strings\n",
    "def generate_random_strings(n, string_length):\n",
    "    test_cases = []\n",
    "    for _ in range(n):\n",
    "        random_string = ''.join(random.choices(string.ascii_letters + string.digits, k=string_length))\n",
    "        test_cases.append(random_string)\n",
    "    return test_cases\n",
    "\n",
    "# Checker function\n",
    "def check_lengthOfLongestSubstring():\n",
    "    # Generate 10 random strings\n",
    "    test_cases = generate_random_strings(10, string_length=20)\n",
    "\n",
    "    suboptimal_solution = Solution()\n",
    "    optimal_solution = OptimalSolution()\n",
    "\n",
    "    for idx, s in enumerate(test_cases):\n",
    "        suboptimal_result = suboptimal_solution.lengthOfLongestSubstring(s)\n",
    "        optimal_result = optimal_solution.lengthOfLongestSubstring(s)\n",
    "\n",
    "        assert suboptimal_result == optimal_result, f\"Test case {idx + 1} failed: Suboptimal: {suboptimal_result}, Optimal: {optimal_result}\"\n",
    "        print(f\"Test case {idx + 1} passed!\")\n",
    "\n",
    "# Run checker\n",
    "check_lengthOfLongestSubstring()"
   ]
  },
  {
   "cell_type": "markdown",
   "metadata": {},
   "source": [
    "# Problem 3\n",
    "\n",
    "Implement the myAtoi(string s) function, which converts a string to a 32-bit signed integer.\n",
    "\n",
    "The algorithm for myAtoi(string s) is as follows:\n",
    "\n",
    "Whitespace: Ignore any leading whitespace (\" \").\n",
    "Signedness: Determine the sign by checking if the next character is '-' or '+', assuming positivity is neither present.\n",
    "Conversion: Read the integer by skipping leading zeros until a non-digit character is encountered or the end of the string is reached. If no digits were read, then the result is 0.\n",
    "Return the integer as the final result."
   ]
  },
  {
   "cell_type": "code",
   "execution_count": null,
   "metadata": {},
   "outputs": [],
   "source": [
    "class Solution:\n",
    "    def myAtoi(self, s: str) -> int:\n",
    "        pass\n",
    "        # write code here"
   ]
  },
  {
   "cell_type": "markdown",
   "metadata": {},
   "source": [
    "# Run the next cell to check the code"
   ]
  },
  {
   "cell_type": "code",
   "execution_count": null,
   "metadata": {},
   "outputs": [],
   "source": [
    "class OptimalSolution:\n",
    "    def myAtoi(self, s: str) -> int:\n",
    "        \n",
    "        pat = r'\\s*(\\+|-)?\\d+'\n",
    "        ans = re.match(pat, s)\n",
    "        if not ans:\n",
    "            return 0\n",
    "        ans = int(ans.group().strip())\n",
    "        \n",
    "        ans = max(ans, -2 ** 31)\n",
    "        ans = min(ans, 2 ** 31 - 1)\n",
    "        \n",
    "        return ans\n",
    "    \n",
    "import random\n",
    "import string\n",
    "\n",
    "# Function to generate random strings\n",
    "def generate_random_strings(n, string_length):\n",
    "    test_cases = []\n",
    "    for _ in range(n):\n",
    "        random_string = ''.join(random.choices(string.digits, k=string_length))\n",
    "        test_cases.append(random_string)\n",
    "    return test_cases\n",
    "\n",
    "# Checker function\n",
    "def check_lengthOfLongestSubstring():\n",
    "    # Generate 10 random strings\n",
    "    test_cases = generate_random_strings(10, string_length=9)\n",
    "\n",
    "    suboptimal_solution = Solution()\n",
    "    optimal_solution = OptimalSolution()\n",
    "\n",
    "    for idx, s in enumerate(test_cases):\n",
    "        suboptimal_result = suboptimal_solution.lengthOfLongestSubstring(s)\n",
    "        optimal_result = optimal_solution.lengthOfLongestSubstring(s)\n",
    "\n",
    "        assert suboptimal_result == optimal_result, f\"Test case {idx + 1} failed: Suboptimal: {suboptimal_result}, Optimal: {optimal_result}\"\n",
    "        print(f\"Test case {idx + 1} passed!\")\n",
    "\n",
    "# Run checker\n",
    "check_lengthOfLongestSubstring()"
   ]
  }
 ],
 "metadata": {
  "language_info": {
   "name": "python"
  }
 },
 "nbformat": 4,
 "nbformat_minor": 2
}
